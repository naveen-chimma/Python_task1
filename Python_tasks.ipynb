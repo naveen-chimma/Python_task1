{
  "nbformat": 4,
  "nbformat_minor": 0,
  "metadata": {
    "colab": {
      "provenance": []
    },
    "kernelspec": {
      "name": "python3",
      "display_name": "Python 3"
    },
    "language_info": {
      "name": "python"
    }
  },
  "cells": [
    {
      "cell_type": "code",
      "source": [
        "a = \"Hello World\"\n",
        "c = {'a':0,'e':0,'i':0,'o':0,'u':0}\n",
        "for i in a:\n",
        "  if i in c:\n",
        "    c[i] += 1\n",
        "print(c)\n"
      ],
      "metadata": {
        "colab": {
          "base_uri": "https://localhost:8080/"
        },
        "id": "I8dI6A23FBRF",
        "outputId": "97279b20-a9bd-4cce-c779-4c0f473631ea"
      },
      "execution_count": null,
      "outputs": [
        {
          "output_type": "stream",
          "name": "stdout",
          "text": [
            "{'a': 0, 'e': 1, 'i': 0, 'o': 2, 'u': 0}\n"
          ]
        }
      ]
    },
    {
      "cell_type": "code",
      "source": [
        "n =[2,3,4,5,6,7,8,9,10]\n",
        "a = n[0]\n",
        "b = n[-1]\n",
        "c = []\n",
        "for i in range(a,b):\n",
        "  if i > 1:\n",
        "    is_prime = True\n",
        "    for j in range(2,int(i**0.5)+1):\n",
        "      if i % j == 0:\n",
        "        is_prime = False\n",
        "        break\n",
        "    if is_prime:\n",
        "      c.append(i)\n",
        "print(c)"
      ],
      "metadata": {
        "colab": {
          "base_uri": "https://localhost:8080/"
        },
        "id": "UR1j5GzoJ8aK",
        "outputId": "2c6bc981-eca5-4257-b700-406acb519250"
      },
      "execution_count": null,
      "outputs": [
        {
          "output_type": "stream",
          "name": "stdout",
          "text": [
            "[2, 3, 5, 7]\n"
          ]
        }
      ]
    },
    {
      "cell_type": "code",
      "source": [
        "n =[2,3,4,5,6,7,8,9,10]\n",
        "a = n[0]\n",
        "b = n[-1]\n",
        "c = []\n",
        "for i in range(a,b):\n",
        "  if i > 1:\n",
        "    for j in range(2,int(i**0.5)+1):\n",
        "      if i % j == 0:\n",
        "        break\n",
        "    else:\n",
        "      c.append(i)\n",
        "print(c)"
      ],
      "metadata": {
        "colab": {
          "base_uri": "https://localhost:8080/"
        },
        "id": "tLzi0qE4kQ9z",
        "outputId": "d7a5243c-c0c3-42e9-ca3a-0c66fa2683ff"
      },
      "execution_count": 2,
      "outputs": [
        {
          "output_type": "stream",
          "name": "stdout",
          "text": [
            "[2, 3, 5, 7]\n"
          ]
        }
      ]
    },
    {
      "cell_type": "code",
      "source": [
        "n =[(1,3), (4,2), (2,5), (3,1)]\n",
        "n.sort(key = lambda x: x[1])\n",
        "print(n)"
      ],
      "metadata": {
        "colab": {
          "base_uri": "https://localhost:8080/"
        },
        "id": "O9U9zkqRrDai",
        "outputId": "111a3a8f-b35f-42ad-bc52-4df12815a824"
      },
      "execution_count": 10,
      "outputs": [
        {
          "output_type": "stream",
          "name": "stdout",
          "text": [
            "[(3, 1), (4, 2), (1, 3), (2, 5)]\n"
          ]
        }
      ]
    },
    {
      "cell_type": "code",
      "source": [
        "a = ({1, 2, 3}, {3, 4, 5})\n",
        "c = []\n",
        "for i in a:\n",
        "    c.append(i)\n",
        "\n",
        "d = set()\n",
        "\n",
        "for x in c[0]:\n",
        "    if x not in c[1]:\n",
        "        d.add(x)\n",
        "\n",
        "for y in c[1]:\n",
        "    if y not in c[0]:\n",
        "        d.add(y)\n",
        "\n",
        "print(d)\n"
      ],
      "metadata": {
        "colab": {
          "base_uri": "https://localhost:8080/"
        },
        "id": "FDh7naiSXCUI",
        "outputId": "6eae9023-e766-43b5-ad96-559c43f2052c"
      },
      "execution_count": null,
      "outputs": [
        {
          "output_type": "stream",
          "name": "stdout",
          "text": [
            "{1, 2, 4, 5}\n"
          ]
        }
      ]
    },
    {
      "cell_type": "code",
      "source": [
        "a = {'a':1, 'b':2, 'c':3}\n",
        "d = {}\n",
        "for i,j in a.items():\n",
        "  d[j] = i\n",
        "print(d)"
      ],
      "metadata": {
        "colab": {
          "base_uri": "https://localhost:8080/"
        },
        "id": "eL225COpnROW",
        "outputId": "378d6ac3-41c0-4c3c-994b-8c89f843e4d0"
      },
      "execution_count": 5,
      "outputs": [
        {
          "output_type": "stream",
          "name": "stdout",
          "text": [
            "{1: 'a', 2: 'b', 3: 'c'}\n"
          ]
        }
      ]
    }
  ]
}